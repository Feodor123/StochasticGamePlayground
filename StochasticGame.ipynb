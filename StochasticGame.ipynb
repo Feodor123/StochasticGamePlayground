{
 "cells": [
  {
   "cell_type": "code",
   "execution_count": 1,
   "metadata": {},
   "outputs": [],
   "source": [
    "from itertools import combinations,product\n",
    "from fractions import Fraction"
   ]
  },
  {
   "cell_type": "code",
   "execution_count": 2,
   "metadata": {},
   "outputs": [],
   "source": [
    "def all_combinations(elements):\n",
    "    answ = [[]]\n",
    "    \n",
    "    for i in range(1, len(elements)+1):\n",
    "        answ.extend([list(x) for x in combinations(elements, i)])\n",
    "    return answ"
   ]
  },
  {
   "cell_type": "code",
   "execution_count": 3,
   "metadata": {},
   "outputs": [],
   "source": [
    "from enum import Enum\n",
    "class EvalState(Enum):\n",
    "    Nope = 0\n",
    "    Evaluating = 1\n",
    "    Evaluated = 2\n",
    "    \n",
    "class Position:\n",
    "    def __init__(self, state_prob_pairs, name = 0):\n",
    "        self.state_prob_pairs = state_prob_pairs\n",
    "        self.eval_state = EvalState.Nope\n",
    "        self.name = name\n",
    "        \n",
    "    def Q(self):\n",
    "        if self.eval_state == EvalState.Nope:\n",
    "            self.Evaluate()\n",
    "        if self.eval_state != EvalState.Evaluated:\n",
    "            raise Exception('Cyclic game')\n",
    "        return self.q\n",
    "        \n",
    "    def Evaluate(self):\n",
    "        self.eval_state = EvalState.Evaluating\n",
    "        self.q = Fraction(1)\n",
    "        for state, prob in self.state_prob_pairs:\n",
    "            if len(state) > 0:\n",
    "                self.q -= prob * min(state, key=lambda s: s.Q()).Q()\n",
    "            else:\n",
    "                self.q -= prob\n",
    "        self.eval_state = EvalState.Evaluated\n",
    "\n",
    "class Game:\n",
    "    def __init__(self, positions, start):\n",
    "        self.positions = positions\n",
    "        self.start = start\n",
    "        \n",
    "    def Evaluate(self):\n",
    "        self.start.Evaluate()     \n",
    "        \n",
    "    def Q(self):\n",
    "        return self.start.Q()\n",
    "    \n",
    "    def __add__(self, game):\n",
    "        positions = []\n",
    "        for i in range(len(self.positions)):\n",
    "            self.positions[i].num = i\n",
    "        for i in range(len(game.positions)):\n",
    "            game.positions[i].num = i\n",
    "        for p2 in game.positions:\n",
    "            for p1 in self.positions:\n",
    "                positions.append(Position([], Game.ConcNames(p1.name, p2.name)))\n",
    "        n = len(self.positions)\n",
    "        for i in range(len(self.positions)):\n",
    "            for j in range(len(game.positions)):\n",
    "                for state1, prob1 in self.positions[i].state_prob_pairs:\n",
    "                    for state2, prob2 in game.positions[j].state_prob_pairs:\n",
    "                        state1_nums = list(map(lambda x: x.num, state1))\n",
    "                        state2_nums = list(map(lambda x: x.num, state2))\n",
    "                        new_state = list(map(lambda x: positions[x + j*n], state1_nums)) +\\\n",
    "                        list(map(lambda x: positions[i + x*n], state2_nums))\n",
    "                        positions[i+n*j].state_prob_pairs.append((new_state, prob1 * prob2))\n",
    "        return Game(positions, positions[self.start.num + n*game.start.num])\n",
    "    \n",
    "    @staticmethod\n",
    "    def ConcNames(name1, name2):\n",
    "        if (type(name1) != tuple):\n",
    "            name1 = (name1,)\n",
    "        if (type(name2) != tuple):\n",
    "            name2 = (name2,)\n",
    "        return name1 + name2\n",
    "    \n",
    "    def __str__(self):\n",
    "        self.Evaluate()\n",
    "        strs = []\n",
    "        for p in self.positions:\n",
    "            strs.append(\"{0}: {1}\".format(p.name, p.Q()))\n",
    "        return '\\n'.join(strs) + '\\n'"
   ]
  },
  {
   "cell_type": "code",
   "execution_count": 4,
   "metadata": {},
   "outputs": [],
   "source": [
    "def NumberGame(n, p):\n",
    "    positions = []\n",
    "    positions.append(Position([([], Fraction(1))], 0))\n",
    "    for i in range(1,n+1):\n",
    "        state_prob_pairs = []\n",
    "        for state in all_combinations(positions):\n",
    "            state_prob_pairs.append((state, p**len(state) * (1-p)**(len(positions) - len(state))))\n",
    "        positions.append(Position(state_prob_pairs, i))\n",
    "    return Game(positions, positions[-1])\n",
    "\n",
    "def DeterministicNumberGame(n):\n",
    "    positions = []\n",
    "    positions.append(Position([([], Fraction(1))], 0))\n",
    "    for i in range(1,n+1):\n",
    "        state_prob_pairs = []\n",
    "        state_prob_pairs.append((positions.copy(), Fraction(1)))\n",
    "        positions.append(Position(state_prob_pairs, i))\n",
    "    return Game(positions, positions[-1])"
   ]
  },
  {
   "cell_type": "code",
   "execution_count": 5,
   "metadata": {},
   "outputs": [
    {
     "name": "stdout",
     "output_type": "stream",
     "text": [
      "0: 0\n",
      "1: 1/3\n",
      "2: 13/27\n",
      "\n",
      "0: 0\n",
      "1: 2/5\n",
      "2: 68/125\n",
      "3: 9526/15625\n",
      "\n",
      "(0, 0): 0\n",
      "(1, 0): 1/3\n",
      "(2, 0): 13/27\n",
      "(0, 1): 2/5\n",
      "(1, 1): 29/75\n",
      "(2, 1): 2612/6075\n",
      "(0, 2): 68/125\n",
      "(1, 2): 4393/9375\n",
      "(2, 2): 1722802/3796875\n",
      "(0, 3): 9526/15625\n",
      "(1, 3): 3038053/5859375\n",
      "(2, 3): 28903091488/59326171875\n",
      "\n"
     ]
    }
   ],
   "source": [
    "g1 = NumberGame(2, Fraction(1,3))\n",
    "g2 = NumberGame(3, Fraction(2,5))\n",
    "g3 = g1 + g2\n",
    "print(g1)\n",
    "print(g2)\n",
    "print(g3)"
   ]
  },
  {
   "cell_type": "code",
   "execution_count": 6,
   "metadata": {
    "scrolled": true
   },
   "outputs": [
    {
     "name": "stdout",
     "output_type": "stream",
     "text": [
      "1/3\n"
     ]
    }
   ],
   "source": [
    "print(NumberGame(1, Fraction(1,3)).Q())"
   ]
  },
  {
   "cell_type": "code",
   "execution_count": 7,
   "metadata": {},
   "outputs": [
    {
     "name": "stdout",
     "output_type": "stream",
     "text": [
      "13/27\n",
      "13/27\n",
      "0: 0\n",
      "1: 1/3\n",
      "2: 13/27\n",
      "\n",
      "0: 0\n",
      "1: 1/3\n",
      "2: 13/27\n",
      "\n",
      "0: 0\n",
      "1: 1/2\n",
      "\n",
      "(0, 0): 0\n",
      "(1, 0): 1/3\n",
      "(2, 0): 13/27\n",
      "(0, 1): 1/2\n",
      "(1, 1): 5/12\n",
      "(2, 1): 137/324\n",
      "\n",
      "(0, 0): 0\n",
      "(1, 0): 1/3\n",
      "(2, 0): 13/27\n",
      "(0, 1): 1/2\n",
      "(1, 1): 5/12\n",
      "(2, 1): 427/972\n",
      "\n"
     ]
    }
   ],
   "source": [
    "#контрпример к аксиоме 6\n",
    "fr = Fraction(1,3)\n",
    "game1 = NumberGame(2, fr)\n",
    "print(game1.Q())\n",
    "positions = []\n",
    "positions.append(Position([([], Fraction(1))], 0))\n",
    "positions.append(Position([([], 1 - fr), ([positions[0]], fr)], 1))\n",
    "positions.append(Position([([], (1 - fr)*(1 - fr)), ([positions[1]], fr*(1 - fr)), ([positions[0], positions[1]], fr)], 2))\n",
    "game2 = Game(positions, positions[-1])\n",
    "print(game2.Q())\n",
    "game3 = NumberGame(1, Fraction(1,2))\n",
    "print(game1)\n",
    "print(game2)\n",
    "print(game3)\n",
    "print(game1 + game3)\n",
    "print(game2 + game3)"
   ]
  },
  {
   "cell_type": "code",
   "execution_count": 8,
   "metadata": {},
   "outputs": [
    {
     "name": "stdout",
     "output_type": "stream",
     "text": [
      "13/27\n",
      "13/27\n",
      "28903091488/59326171875\n",
      "28903091488/59326171875\n"
     ]
    }
   ],
   "source": [
    "#пример неизоморфных q-экв. игр (гипотеза 3)\n",
    "fr = Fraction(1,3)\n",
    "g1 = NumberGame(2, fr)\n",
    "ps = []\n",
    "ps.append(Position([([], Fraction(1))], 0))\n",
    "ps.append(Position([([], 1 - fr), ([ps[0]], fr)], 1))\n",
    "ps.append(Position([([], 1 - fr), ([ps[0]], fr)], 2))\n",
    "ps.append(Position([([], (1 - fr)*(1 - fr)), \n",
    "                    ([ps[0]], fr*(1 - fr)), \n",
    "                    ([ps[1]], fr*(1 - fr)/2),\n",
    "                    ([ps[2]], fr*(1 - fr)/2),\n",
    "                    ([ps[0],ps[1]], fr*fr/2),\n",
    "                    ([ps[0],ps[2]], fr*fr/2)], 3))\n",
    "g2 = Game(ps, ps[-1])\n",
    "g3 = NumberGame(3, Fraction(2,5))\n",
    "print(g1.Q())\n",
    "print(g2.Q())\n",
    "print((g1+g3).Q())\n",
    "print((g2+g3).Q())"
   ]
  },
  {
   "cell_type": "code",
   "execution_count": 9,
   "metadata": {
    "scrolled": true
   },
   "outputs": [
    {
     "name": "stdout",
     "output_type": "stream",
     "text": [
      "13/27\n",
      "13/27\n",
      "246905/531441\n",
      "2237963/4782969\n"
     ]
    }
   ],
   "source": [
    "#пример не q-эквивалентных игр с одинаковым q (гипотеза 2)\n",
    "game1 = NumberGame(1, Fraction(13,27))\n",
    "game2 = NumberGame(2, Fraction(1,3))\n",
    "game3 = NumberGame(3, Fraction(1,3))\n",
    "\n",
    "print(game1.Q())\n",
    "print(game2.Q())\n",
    "print((game1 + game3).Q())\n",
    "print((game2 + game3).Q())"
   ]
  }
 ],
 "metadata": {
  "kernelspec": {
   "display_name": "Python 3",
   "language": "python",
   "name": "python3"
  },
  "language_info": {
   "codemirror_mode": {
    "name": "ipython",
    "version": 3
   },
   "file_extension": ".py",
   "mimetype": "text/x-python",
   "name": "python",
   "nbconvert_exporter": "python",
   "pygments_lexer": "ipython3",
   "version": "3.7.3"
  }
 },
 "nbformat": 4,
 "nbformat_minor": 2
}
